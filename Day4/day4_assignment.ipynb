{
  "nbformat": 4,
  "nbformat_minor": 0,
  "metadata": {
    "colab": {
      "name": "day4 assignment.ipynb",
      "provenance": []
    },
    "kernelspec": {
      "name": "python3",
      "display_name": "Python 3"
    }
  },
  "cells": [
    {
      "cell_type": "code",
      "metadata": {
        "id": "_gRqis12eivy",
        "colab_type": "code",
        "colab": {
          "base_uri": "https://localhost:8080/",
          "height": 85
        },
        "outputId": "27731a38-ee4c-434f-9095-8e63283e4a46"
      },
      "source": [
        "#question 1\n",
        "#Research on whether addition, subtraction, multiplication, division, floor division and modulo operations be performed on complex numbers\n",
        "\n",
        "a=5+18j\n",
        "b=7+12j\n",
        "r1=a+b\n",
        "r2=a-b\n",
        "r3=a*b\n",
        "r4=a/b\n",
        "#r5=a//b Floor division(quotient) can't be taken \n",
        "#r6=a%b  Modulo operation(reminder) can't be taken \n",
        "print(\"addition of two complex number :\",r1)\n",
        "print(\"subtraction of two complex number :\",r2)\n",
        "print(\"multiplication of two complex number :\",r3)\n",
        "print(\"division of two complex number :\",r4)\n",
        "\n",
        "#print(\"/n floor division of two complex number :\",r5)\n",
        "#print(\"/n modulo operation of two complex number :\",r6)"
      ],
      "execution_count": 9,
      "outputs": [
        {
          "output_type": "stream",
          "text": [
            "addition of two complex number : (12+30j)\n",
            "subtraction of two complex number : (-2+6j)\n",
            "multiplication of two complex number : (-181+186j)\n",
            "division of two complex number : (1.3005181347150259+0.3419689119170984j)\n"
          ],
          "name": "stdout"
        }
      ]
    },
    {
      "cell_type": "markdown",
      "metadata": {
        "id": "nNMHaA6ZkCxX",
        "colab_type": "text"
      },
      "source": [
        " **Question 2  -  range() function**\n",
        ":In range function we can initiate  a numbers in between the range i,e giving   starting , ending number and also the gap between each number. Below is the example for the range function.\n",
        "\n",
        "\n"
      ]
    },
    {
      "cell_type": "code",
      "metadata": {
        "id": "62oK84XEi9__",
        "colab_type": "code",
        "colab": {
          "base_uri": "https://localhost:8080/",
          "height": 374
        },
        "outputId": "fae7284b-a0ef-49b5-c965-b5be6b4a02fb"
      },
      "source": [
        "#question 2\n",
        "#use of range function\n",
        "a=range(1,100,5) #range(starting number, last number , gap between each number)\n",
        "print(\"Numbers from 1 to 100 with gap of 5 \")\n",
        "for i in a:\n",
        "  print(\"\\t\",i)\n"
      ],
      "execution_count": 33,
      "outputs": [
        {
          "output_type": "stream",
          "text": [
            "Numbers from 1 to 100 with gap of 5 \n",
            "\t 1\n",
            "\t 6\n",
            "\t 11\n",
            "\t 16\n",
            "\t 21\n",
            "\t 26\n",
            "\t 31\n",
            "\t 36\n",
            "\t 41\n",
            "\t 46\n",
            "\t 51\n",
            "\t 56\n",
            "\t 61\n",
            "\t 66\n",
            "\t 71\n",
            "\t 76\n",
            "\t 81\n",
            "\t 86\n",
            "\t 91\n",
            "\t 96\n"
          ],
          "name": "stdout"
        }
      ]
    },
    {
      "cell_type": "code",
      "metadata": {
        "id": "kGwwOhR2kDug",
        "colab_type": "code",
        "colab": {
          "base_uri": "https://localhost:8080/",
          "height": 34
        },
        "outputId": "0cc7e3df-1cb8-414c-f6e6-3562baa8dcc6"
      },
      "source": [
        "#question 3\n",
        "# Consider two numbers. Perform their subtraction and if the result of subtraction is greater than 25, print their multiplication result else print their division result.\n",
        "a=1000\n",
        "b=500\n",
        "r=a-b\n",
        "if r>25:\n",
        "  print(\"multiplation of two given numbers\",a*b);\n",
        "else:\n",
        "  print(\"division of two given numbers\",a/b)\n",
        "\n"
      ],
      "execution_count": 10,
      "outputs": [
        {
          "output_type": "stream",
          "text": [
            "multiplation of two given numbers 500000\n"
          ],
          "name": "stdout"
        }
      ]
    },
    {
      "cell_type": "code",
      "metadata": {
        "id": "GkvBPkMcl7AK",
        "colab_type": "code",
        "colab": {
          "base_uri": "https://localhost:8080/",
          "height": 102
        },
        "outputId": "3a9c2536-873f-4930-d633-c67859ab9263"
      },
      "source": [
        "#question 4\n",
        "#Consider a list of 10 elements of integer values. If the number in the list is divisible by 2, print the result as \"square of that number minus 2\".\n",
        "a=[1,2,3,4,5,6,7,8,9,10]\n",
        "for i in a:\n",
        "  if i%2==0:\n",
        "    print(f\"square of the {i} minus 2: {i**2-2}\")\n",
        "  \n"
      ],
      "execution_count": 18,
      "outputs": [
        {
          "output_type": "stream",
          "text": [
            "square of the 2 minus 2: 2\n",
            "square of the 4 minus 2: 14\n",
            "square of the 6 minus 2: 34\n",
            "square of the 8 minus 2: 62\n",
            "square of the 10 minus 2: 98\n"
          ],
          "name": "stdout"
        }
      ]
    },
    {
      "cell_type": "code",
      "metadata": {
        "id": "-tLGaM0_qkLc",
        "colab_type": "code",
        "colab": {
          "base_uri": "https://localhost:8080/",
          "height": 136
        },
        "outputId": "ce4829c5-ebbd-448f-9a32-cdd4f84b349e"
      },
      "source": [
        "#question 5\n",
        "#Consider a list of 10 elements. Print all the elements in the list which are greater than 7 when that number is divided 2.\n",
        "a=[12,13,14,15,16,17,18,19,20,21]\n",
        "\n",
        "for i in a:\n",
        "  if(i/2>7):\n",
        "    print(\"The number is greater than 7 after divided by 2\",i)\n",
        "\n"
      ],
      "execution_count": 28,
      "outputs": [
        {
          "output_type": "stream",
          "text": [
            "The number is greater than 7 after divided by 2 15\n",
            "The number is greater than 7 after divided by 2 16\n",
            "The number is greater than 7 after divided by 2 17\n",
            "The number is greater than 7 after divided by 2 18\n",
            "The number is greater than 7 after divided by 2 19\n",
            "The number is greater than 7 after divided by 2 20\n",
            "The number is greater than 7 after divided by 2 21\n"
          ],
          "name": "stdout"
        }
      ]
    }
  ]
}