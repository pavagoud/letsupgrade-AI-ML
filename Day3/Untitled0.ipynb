{
  "nbformat": 4,
  "nbformat_minor": 0,
  "metadata": {
    "colab": {
      "name": "Untitled0.ipynb",
      "provenance": [],
      "collapsed_sections": []
    },
    "kernelspec": {
      "name": "python3",
      "display_name": "Python 3"
    }
  },
  "cells": [
    {
      "cell_type": "code",
      "metadata": {
        "id": "tUkLWokovKp7",
        "colab_type": "code",
        "colab": {
          "base_uri": "https://localhost:8080/",
          "height": 34
        },
        "outputId": "c2115f99-f2af-4664-95e0-c70c8263e87f"
      },
      "source": [
        "# question 1\n",
        "# substraction of two complex numbers\n",
        "\n",
        "a=5+6j\n",
        "b=4+3j\n",
        "c=a-b;\n",
        "print(c)"
      ],
      "execution_count": 5,
      "outputs": [
        {
          "output_type": "stream",
          "text": [
            "(1+3j)\n"
          ],
          "name": "stdout"
        }
      ]
    },
    {
      "cell_type": "code",
      "metadata": {
        "id": "VDtXcB-pxV6Z",
        "colab_type": "code",
        "colab": {
          "base_uri": "https://localhost:8080/",
          "height": 34
        },
        "outputId": "93e2cfa0-681c-44e9-8572-13503d69b200"
      },
      "source": [
        "# question 2\n",
        "# find the fourth root of a number\n",
        "a=16\n",
        "result=(a**(1/4))\n",
        "print(\"Fourth root of a is\",result)\n"
      ],
      "execution_count": 23,
      "outputs": [
        {
          "output_type": "stream",
          "text": [
            "Fourth root of a is 2.0\n"
          ],
          "name": "stdout"
        }
      ]
    },
    {
      "cell_type": "code",
      "metadata": {
        "id": "ppyiNzd8zZir",
        "colab_type": "code",
        "colab": {
          "base_uri": "https://localhost:8080/",
          "height": 119
        },
        "outputId": "7a576af7-0ac8-428f-99f1-4cc0674513ba"
      },
      "source": [
        "#question 3\n",
        "# To swap two numbers with using temporary variable\n",
        "a=5;\n",
        "b=6;\n",
        "print(\"before swaping\")\n",
        "print(a)\n",
        "print(b)\n",
        "\n",
        "t=a;\n",
        "a=b;\n",
        "b=t;\n",
        "print(\"after swaping\")\n",
        "print(a)\n",
        "print(b)"
      ],
      "execution_count": 18,
      "outputs": [
        {
          "output_type": "stream",
          "text": [
            "before swaping\n",
            "5\n",
            "6\n",
            "after swaping\n",
            "6\n",
            "5\n"
          ],
          "name": "stdout"
        }
      ]
    },
    {
      "cell_type": "code",
      "metadata": {
        "id": "tBwNtZcv1uOy",
        "colab_type": "code",
        "colab": {
          "base_uri": "https://localhost:8080/",
          "height": 119
        },
        "outputId": "e7abb21c-dabf-4842-9a68-b0766162bf88"
      },
      "source": [
        "#question 4\n",
        "# To swap two numbers with out using the temporary variable\n",
        "a=5;\n",
        "b=6;\n",
        "print(\"before swaping\")\n",
        "print(a)\n",
        "print(b)\n",
        "a=a+b;\n",
        "b=a-b;\n",
        "a=a-b;\n",
        "print(\"after swaping\")\n",
        "print(a)\n",
        "print(b)\n"
      ],
      "execution_count": 19,
      "outputs": [
        {
          "output_type": "stream",
          "text": [
            "before swaping\n",
            "5\n",
            "6\n",
            "after swaping\n",
            "6\n",
            "5\n"
          ],
          "name": "stdout"
        }
      ]
    },
    {
      "cell_type": "code",
      "metadata": {
        "id": "1ukKvPXM7Wx1",
        "colab_type": "code",
        "colab": {
          "base_uri": "https://localhost:8080/",
          "height": 68
        },
        "outputId": "d594d1b4-b48d-43ef-c091-cbf0d2717d63"
      },
      "source": [
        "#question 5\n",
        "# To convert fahrenheit to kelvin and celsius both\n",
        "f=98.5\n",
        "c=5/9*(f-32)\n",
        "k=c+273\n",
        "print(\"fahrenheit =\",f)\n",
        "print(\"celsius =\",c)\n",
        "print(\"kelvin =\",k)"
      ],
      "execution_count": 20,
      "outputs": [
        {
          "output_type": "stream",
          "text": [
            "fahrenheit = 98.5\n",
            "celsius = 36.94444444444444\n",
            "kelvin = 309.94444444444446\n"
          ],
          "name": "stdout"
        }
      ]
    },
    {
      "cell_type": "code",
      "metadata": {
        "id": "Tn-fdbbU-CgE",
        "colab_type": "code",
        "colab": {
          "base_uri": "https://localhost:8080/",
          "height": 170
        },
        "outputId": "81135a44-ffae-4277-c259-4c3c5108c308"
      },
      "source": [
        "#question 6\n",
        "# To demonstrate all the available data types in Python\n",
        "a = 15\n",
        "print(type(a))\n",
        "\n",
        "b = 22.7\n",
        "print(type(b))\n",
        "\n",
        "c = \"pavan\"\n",
        "print(type(c))\n",
        "\n",
        "d = 2 + 7j\n",
        "print(type(d))\n",
        "\n",
        "e = [1,2,3,4,5,'a','b']\n",
        "print(type(e))\n",
        "\n",
        "f = (1,2,3,4,5,'a','b')\n",
        "print(type(f))\n",
        "\n",
        "g = {'tst1': 20, 'tst2': 50}\n",
        "print(type(g))\n",
        "\n",
        "\n",
        "h = True\n",
        "print(type(i))\n",
        "\n",
        "i = range(10)\n",
        "print(type(j))\n",
        "\n",
        "\n"
      ],
      "execution_count": 26,
      "outputs": [
        {
          "output_type": "stream",
          "text": [
            "<class 'int'>\n",
            "<class 'float'>\n",
            "<class 'str'>\n",
            "<class 'complex'>\n",
            "<class 'list'>\n",
            "<class 'tuple'>\n",
            "<class 'dict'>\n",
            "<class 'bool'>\n",
            "<class 'range'>\n"
          ],
          "name": "stdout"
        }
      ]
    },
    {
      "cell_type": "markdown",
      "metadata": {
        "id": "2YHKdsSiFV7C",
        "colab_type": "text"
      },
      "source": [
        "# Question 7\n",
        "\n",
        "# ***About GitHub***:\n",
        "This the place where we can upload our code, this application helps to built up our profile.\n",
        "# Following are the steps to do in GitHub:\n",
        "1.   Visit to the website \"www.github.com\".\n",
        "2.   First signup then signin into your account.\n",
        "3.   After signin into the account on the right corner you will find a \"+\" symbol click on that select first option which is **Create New Repository**.\n",
        "4.   Then at Repository name write it as **LetsUpgrade AI-ML** and on the description box write as **assignment** after that don't do any changes directly press the submit button.\n",
        "5.   After you have completed your assignment then create a folder with the  particular session  day number (ie day3).\n",
        "6.   Upload the folder in GitHub buy selecting an link called  **uploading an existing file** where you need drag and drop the folder.\n",
        "7.  This are the steps to be followed to create an account and to submit the assignment successfully in GitHub.\n",
        "\n",
        "\n",
        "# How to upload the GitHubs Assignment Link\n",
        "1.   Go to the parent repository and open the folder which day you want to upload. \n",
        "2.  Copy the address and check whether the link is correct or not by pasting on new window.\n",
        "3.  After checking process completed ,open the Assignment submission form fill the required data and paste the GitHub link and submit.\n",
        "  \n",
        "\n",
        "\n",
        "\n",
        "\n",
        "\n",
        "\n",
        "\n",
        "\n",
        "\n",
        "\n",
        "\n",
        "\n",
        "\n",
        "\n",
        "\n",
        "\n",
        "\n",
        "\n",
        "\n",
        "\n",
        "\n",
        "\n",
        "\n",
        "\n",
        "\n",
        "\n",
        "\n",
        "\n",
        "\n",
        " "
      ]
    }
  ]
}