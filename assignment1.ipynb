{
  "nbformat": 4,
  "nbformat_minor": 0,
  "metadata": {
    "colab": {
      "name": "assignment1.ipynb",
      "provenance": [],
      "collapsed_sections": [],
      "authorship_tag": "ABX9TyOx4S5FXHg5AST7TnpoafiK",
      "include_colab_link": true
    },
    "kernelspec": {
      "name": "python3",
      "display_name": "Python 3"
    },
    "language_info": {
      "name": "python"
    }
  },
  "cells": [
    {
      "cell_type": "markdown",
      "metadata": {
        "id": "view-in-github",
        "colab_type": "text"
      },
      "source": [
        "<a href=\"https://colab.research.google.com/github/pavagoud/letsupgrade-AI-ML/blob/master/assignment1.ipynb\" target=\"_parent\"><img src=\"https://colab.research.google.com/assets/colab-badge.svg\" alt=\"Open In Colab\"/></a>"
      ]
    },
    {
      "cell_type": "code",
      "metadata": {
        "colab": {
          "base_uri": "https://localhost:8080/"
        },
        "id": "P1Gf9q0KwD0g",
        "outputId": "99433cfd-b26e-49d1-b4f4-b49f41b666ad"
      },
      "source": [
        "list1=[\"nike\",\"addidas\",\"puma\",\"crocs\"]\n",
        "list2=[\"maruthi\",\"kia\",\"toyota\",\"hyundai\"]\n",
        "print(\"the elements in list 1 are\",list1)\n",
        "print(\"the elements in list 2 are\",list2)\n"
      ],
      "execution_count": 4,
      "outputs": [
        {
          "output_type": "stream",
          "text": [
            "the elements in list 1 are ['nike', 'addidas', 'puma', 'crocs']\n",
            "the elements in list 2 are ['maruthi', 'kia', 'toyota', 'hyundai']\n"
          ],
          "name": "stdout"
        }
      ]
    },
    {
      "cell_type": "code",
      "metadata": {
        "id": "XKOpnvVFwPfW",
        "colab": {
          "base_uri": "https://localhost:8080/"
        },
        "outputId": "4723f211-1d3c-4662-c1f3-38367b33c9e6"
      },
      "source": [
        "num=list1[0]\n",
        "size=len(list1)\n",
        "list1[0]=list1[size-1]\n",
        "list1[size-1]=num\n",
        "print(list1)\n",
        "\n",
        "num1=list2[0]\n",
        "list2[0]=list2[-1]\n",
        "list2[-1]=num1\n",
        "print(list2)"
      ],
      "execution_count": 8,
      "outputs": [
        {
          "output_type": "stream",
          "text": [
            "['crocs', 'addidas', 'puma', 'nike']\n",
            "['maruthi', 'kia', 'toyota', 'hyundai']\n"
          ],
          "name": "stdout"
        }
      ]
    },
    {
      "cell_type": "code",
      "metadata": {
        "colab": {
          "base_uri": "https://localhost:8080/"
        },
        "id": "DtMQ-5lOfcZw",
        "outputId": "e9566609-b995-48d3-dc6d-e398d4b777ee"
      },
      "source": [
        "print(\"even numbers in between 20 to 40 are\")\n",
        "for i in range(20,41):\n",
        "  if(i%2==0):\n",
        "    print(i)"
      ],
      "execution_count": 9,
      "outputs": [
        {
          "output_type": "stream",
          "text": [
            "even numbers in between 20 to 40 are\n",
            "20\n",
            "22\n",
            "24\n",
            "26\n",
            "28\n",
            "30\n",
            "32\n",
            "34\n",
            "36\n",
            "38\n",
            "40\n"
          ],
          "name": "stdout"
        }
      ]
    }
  ]
}